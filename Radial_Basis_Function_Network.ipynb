{
  "nbformat": 4,
  "nbformat_minor": 0,
  "metadata": {
    "colab": {
      "name": "Radial_Basis_Function_Network.ipynb",
      "provenance": []
    },
    "kernelspec": {
      "name": "python3",
      "display_name": "Python 3"
    }
  },
  "cells": [
    {
      "cell_type": "code",
      "metadata": {
        "id": "bn2_SzAMSM55"
      },
      "source": [
        "import math\r\n",
        "import pandas as pd\r\n",
        "from sklearn.preprocessing import LabelEncoder\r\n",
        "from sklearn.metrics import accuracy_score\r\n",
        "from sklearn.model_selection import train_test_split\r\n",
        "from sklearn.cluster import KMeans\r\n",
        "from sklearn.cluster import k_clust\r\n",
        "from sklearn.preprocessing import StandardScaler\r\n",
        "import numpy as numpy"
      ],
      "execution_count": 1,
      "outputs": []
    },
    {
      "cell_type": "code",
      "metadata": {
        "id": "iUTRmHB01G5F"
      },
      "source": [
        "Data= pd.read_table(\"/content/bank-full.csv\", sep= None, engine= \"python\")\r\n",
        "cols= [\"age\",\"balance\",\"day\",\"duration\",\"campaign\",\"pdays\",\"previous\"]\r\n",
        "data_encode= Data.drop(cols, axis= 1)\r\n",
        "data_encode= data_encode.apply(LabelEncoder().fit_transform)\r\n",
        "data_rest= Data[cols]\r\n",
        "Data= pd.concat([data_rest,data_encode], axis= 1)"
      ],
      "execution_count": 2,
      "outputs": []
    },
    {
      "cell_type": "code",
      "metadata": {
        "id": "Oub7pyeo1Mq-"
      },
      "source": [
        "data_train, data_test= train_test_split(Data, test_size= 0.33, random_state= 4)\r\n",
        "X_train= data_train.drop(\"y\", axis= 1)\r\n",
        "Y_train= data_train[\"y\"]\r\n",
        "X_test= data_test.drop(\"y\", axis=1)\r\n",
        "Y_test= data_test[\"y\"]"
      ],
      "execution_count": 3,
      "outputs": []
    },
    {
      "cell_type": "code",
      "metadata": {
        "id": "vCqy5Q-J1PJN"
      },
      "source": [
        "# Scale the data using StandardScaler class.\r\n",
        "\r\n",
        "scaler= StandardScaler()\r\n",
        "scaler.fit(X_train)\r\n",
        "X_train= scaler.transform(X_train)\r\n",
        "X_test= scaler.transform(X_test)\r\n"
      ],
      "execution_count": 5,
      "outputs": []
    },
    {
      "cell_type": "code",
      "metadata": {
        "id": "nN3zSBFb1h3X"
      },
      "source": [
        "# Determine centers of the neurons using KMeans.\r\n",
        "\r\n",
        "K_cent= 8\r\n",
        "km= KMeans(n_clusters= K_cent, max_iter= 100)\r\n",
        "km.fit(X_train)\r\n",
        "cent= km.cluster_centers_"
      ],
      "execution_count": 7,
      "outputs": []
    },
    {
      "cell_type": "code",
      "metadata": {
        "id": "3s977Owk2K_P"
      },
      "source": [
        "# Determine the value of σ\r\n",
        "max=0 \r\n",
        "for i in range(K_cent):\r\n",
        "\tfor j in range(K_cent):\r\n",
        "\t\td= numpy.linalg.norm(cent[i]-cent[j])\r\n",
        "\t\tif(d> max):\r\n",
        "\t\t\tmax= d\r\n",
        "d= max\r\n",
        "\r\n",
        "sigma= d/math.sqrt(2*K_cent)"
      ],
      "execution_count": 8,
      "outputs": []
    },
    {
      "cell_type": "code",
      "metadata": {
        "id": "2-1W_KCk2Qlb"
      },
      "source": [
        "# Set up matrix G.\r\n",
        "\r\n",
        "shape= X_train.shape\r\n",
        "row= shape[0]\r\n",
        "column= K_cent\r\n",
        "G= numpy.empty((row,column), dtype= float)\r\n",
        "for i in range(row):\r\n",
        "    for j in range(column):\r\n",
        "        dist= numpy.linalg.norm(X_train[i]-cent[j])\r\n",
        "        G[i][j]= math.exp(-math.pow(dist,2)/math.pow(2*sigma,2))"
      ],
      "execution_count": 9,
      "outputs": []
    },
    {
      "cell_type": "code",
      "metadata": {
        "id": "ZMYVFKNv2WLp"
      },
      "source": [
        "# Find weight matrix W to train the network.\r\n",
        "\r\n",
        "GTG= numpy.dot(G.T,G)\r\n",
        "GTG_inv= numpy.linalg.inv(GTG)\r\n",
        "fac= numpy.dot(GTG_inv,G.T)\r\n",
        "W= numpy.dot(fac,Y_train)"
      ],
      "execution_count": 10,
      "outputs": []
    },
    {
      "cell_type": "code",
      "metadata": {
        "id": "MDZTMZwt2bF7"
      },
      "source": [
        "# Set up matrix G for the test set.\r\n",
        "\r\n",
        "row= X_test.shape[0]\r\n",
        "column= K_cent\r\n",
        "G_test= numpy.empty((row,column), dtype= float)\r\n",
        "for i in range(row):\r\n",
        "\tfor j in range(column):\r\n",
        "\t\tdist= numpy.linalg.norm(X_test[i]-cent[j])\r\n",
        "\t\tG_test[i][j]= math.exp(-math.pow(dist,2)/math.pow(2*sigma,2))"
      ],
      "execution_count": 11,
      "outputs": []
    },
    {
      "cell_type": "code",
      "metadata": {
        "colab": {
          "base_uri": "https://localhost:8080/"
        },
        "id": "mP0XBy7B2ogH",
        "outputId": "9f054b31-8ba0-4c60-f3ef-7df59370d91e"
      },
      "source": [
        "#Analyze the accuracy of prediction on test set\r\n",
        "\r\n",
        "prediction= numpy.dot(G_test,W)\r\n",
        "prediction= 0.5*(numpy.sign(prediction-0.5)+1)\r\n",
        "\r\n",
        "score= accuracy_score(prediction,Y_test)\r\n",
        "print(score.mean())"
      ],
      "execution_count": 13,
      "outputs": [
        {
          "output_type": "stream",
          "text": [
            "0.8876675603217158\n"
          ],
          "name": "stdout"
        }
      ]
    },
    {
      "cell_type": "markdown",
      "metadata": {
        "id": "NWlX65nz26rk"
      },
      "source": [
        "With an RBF network, a prediction with an accuracy of 88% is achieved."
      ]
    },
    {
      "cell_type": "code",
      "metadata": {
        "id": "oXE5vynb2sby"
      },
      "source": [
        ""
      ],
      "execution_count": null,
      "outputs": []
    }
  ]
}